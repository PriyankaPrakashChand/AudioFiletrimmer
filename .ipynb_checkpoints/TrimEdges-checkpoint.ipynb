{
 "cells": [
  {
   "cell_type": "code",
   "execution_count": null,
   "metadata": {},
   "outputs": [],
   "source": [
    "#import libraries\n",
    "# to install pydub library simple go to the terminal and type-> pip intall pydub\n",
    "import argparse\n",
    "import os\n",
    "import sys\n",
    "from pydub import AudioSegment  "
   ]
  },
  {
   "cell_type": "code",
   "execution_count": null,
   "metadata": {},
   "outputs": [],
   "source": [
    "\n",
    "import datetime\n",
    "def validate(date_text):\n",
    "    try:\n",
    "        datetime.datetime.strptime(date_text, '%H:%M:%S')\n",
    "    except ValueError:\n",
    "        raise ValueError(\"Incorrect data format, should be hh-mm-ss\")\n",
    "        \n",
    "validate('00:00:30')"
   ]
  },
  {
   "cell_type": "code",
   "execution_count": null,
   "metadata": {},
   "outputs": [],
   "source": [
    "def validate_input(input_time):\n",
    "    print(input)\n",
    "    try:\n",
    "        datetime.datetime.strptime(input_time,'%H:%M:%S')\n",
    "    except ValueError:\n",
    "        raise ValueError(\"Incorrect data format, should be hh:mm:ss\")\n",
    "        \n",
    "\n",
    "# Create the command line argument parser\n",
    "parser = argparse.ArgumentParser(prog='audeditor',description='Edit the Audio File')\n",
    "\n",
    "parser.add_argument('-s', '--start', metavar='start time', type=validate_input, nargs='+',\n",
    "                    help='an integer for start hour', required=True)\n",
    "parser.add_argument('-e', '--end', metavar='end time', type=validate_input, nargs='+',\n",
    "                    help='an integer for end hour',required=True)\n"
   ]
  },
  {
   "cell_type": "code",
   "execution_count": 13,
   "metadata": {},
   "outputs": [
    {
     "data": {
      "text/plain": [
       "_StoreAction(option_strings=['-e'], dest='e', nargs='+', const=None, default='00:00:00', type=<function validate_input at 0x00000272B8A4AC10>, choices=None, help='an integer for end hour', metavar='end time')"
      ]
     },
     "execution_count": 13,
     "metadata": {},
     "output_type": "execute_result"
    }
   ],
   "source": [
    "#import libraries\n",
    "# to install pydub library simple go to the terminal and type-> pip intall pydub\n",
    "import argparse\n",
    "import os\n",
    "import sys\n",
    "from pydub import AudioSegment  \n",
    "import datetime\n",
    "\n",
    "# Create the command line argument parser\n",
    "parser = argparse.ArgumentParser(prog='audeditor',description='Edit the Audio File')\n",
    "\n",
    "def validate_input(input):\n",
    "    try:\n",
    "        datetime.datetime.strptime(input, '%H:%M:%S')\n",
    "    except ValueError:\n",
    "        raise ValueError(\"Incorrect data format, should be hh-mm-ss\")\n",
    "\n",
    "\n",
    "parser.add_argument('-s', '--start', metavar='start time', type=validate_input, nargs='+',\n",
    "                    help='an integer for start hour', required=True,default=\"00:00:00\",action='store')\n",
    "parser.add_argument('-e', '--end', metavar='end time', type=validate_input, nargs='+',\n",
    "                    help='an integer for end hour',required=True,default=\"00:00:00\",action='store')\n",
    "\n",
    "# # Execute the parse_args() method\n",
    "# args = parser.parse_args([-s '00:00:30' -e  '00:00:40'])\n",
    "# print (args.start)\n",
    "\n",
    "\n",
    "\n",
    "# print (args.end)\n",
    "\n"
   ]
  },
  {
   "cell_type": "code",
   "execution_count": 17,
   "metadata": {},
   "outputs": [
    {
     "name": "stderr",
     "output_type": "stream",
     "text": [
      "usage: audeditor [-h] -s start time [start time ...] -e end time [end time ...]\n",
      "audeditor: error: the following arguments are required: -e\n"
     ]
    },
    {
     "ename": "SystemExit",
     "evalue": "2",
     "output_type": "error",
     "traceback": [
      "An exception has occurred, use %tb to see the full traceback.\n",
      "\u001b[1;31mSystemExit\u001b[0m\u001b[1;31m:\u001b[0m 2\n"
     ]
    }
   ],
   "source": [
    "\n",
    "args = parser.parse_args(args=['-s','00:00:30'])\n"
   ]
  },
  {
   "cell_type": "code",
   "execution_count": 2,
   "metadata": {},
   "outputs": [
    {
     "data": {
      "text/plain": [
       "Namespace(foo='1')"
      ]
     },
     "execution_count": 2,
     "metadata": {},
     "output_type": "execute_result"
    }
   ],
   "source": [
    "parser = argparse.ArgumentParser()\n",
    ">>> parser.add_argument('--foo')\n",
    ">>> parser.parse_args('--foo 1'.split())"
   ]
  },
  {
   "cell_type": "code",
   "execution_count": null,
   "metadata": {},
   "outputs": [],
   "source": [
    "# validate_input('00:00:99')\n",
    "validate('00:00:30')"
   ]
  },
  {
   "cell_type": "code",
   "execution_count": null,
   "metadata": {
    "scrolled": true
   },
   "outputs": [],
   "source": [
    "validate_input('00:00:33')"
   ]
  },
  {
   "cell_type": "code",
   "execution_count": null,
   "metadata": {},
   "outputs": [],
   "source": [
    "startHour=args.sh\n",
    "startMin = args.sm \n",
    "startSec=args.ss\n",
    "endHour=args.eh\n",
    "endMin = args.em \n",
    "endSec = args.es\n",
    "\n",
    "print (\"start: \"+startHour+ \" \"+startMin+ \" \"+ startSec)\n",
    "print (\"end: \"+endHour+ \" \"+endMin+ \" \"+ endSec)"
   ]
  },
  {
   "cell_type": "code",
   "execution_count": null,
   "metadata": {},
   "outputs": [],
   "source": [
    " \n",
    "\n",
    "files_path = r'C:\\Users\\pinkb\\OneDrive\\Desktop\\Priyanka_JobSearch\\GithubProjects\\AudioFiletrimmer'#'add your file path here- eg: C:\\Users\\pinkb\\Desktop\\songs'\n",
    "file_name = r'Test1'#' add the file name here- eg: Top200'\n",
    "\n",
    "\n",
    "\n",
    "# convert Time to miliseconds\n",
    "startTime = startHour*3600000+startMin*60000+startSec*1000\n",
    "endTime = endHour*3600000+endMin*60000+endSec*1000\n",
    "\n",
    "\n",
    "# Opening file and extracting segment\n",
    "audio_file_name=files_path+\"\\\\\"+file_name+\".mp3\""
   ]
  },
  {
   "cell_type": "code",
   "execution_count": null,
   "metadata": {},
   "outputs": [],
   "source": [
    "pip install pydub\n",
    "\n"
   ]
  },
  {
   "cell_type": "code",
   "execution_count": null,
   "metadata": {},
   "outputs": [],
   "source": [
    "pip install ffprobe"
   ]
  },
  {
   "cell_type": "code",
   "execution_count": null,
   "metadata": {},
   "outputs": [],
   "source": [
    "song = AudioSegment.from_mp3(audio_file_name)\n",
    "\n"
   ]
  },
  {
   "cell_type": "code",
   "execution_count": null,
   "metadata": {},
   "outputs": [],
   "source": [
    "extract = song[startTime:endTime] # when both start and end edges need to be trimmed\n",
    "# extract = song[startTime:] # when only start edge needs to be trimmed\n",
    "# extract = song[:endTime] # when only end edge needs to be trimmed\n",
    "print(\"extraction complete\")\n",
    "\n",
    "# Saving\n",
    "\n",
    "extract.export(files_path +\"\\\\\"+ file_name+ '-extract.mp3', format=\"mp3\")\n",
    "print(\"Conversion completed\")"
   ]
  },
  {
   "cell_type": "code",
   "execution_count": null,
   "metadata": {},
   "outputs": [],
   "source": []
  }
 ],
 "metadata": {
  "kernelspec": {
   "display_name": "Python 3",
   "language": "python",
   "name": "python3"
  },
  "language_info": {
   "codemirror_mode": {
    "name": "ipython",
    "version": 3
   },
   "file_extension": ".py",
   "mimetype": "text/x-python",
   "name": "python",
   "nbconvert_exporter": "python",
   "pygments_lexer": "ipython3",
   "version": "3.8.5"
  }
 },
 "nbformat": 4,
 "nbformat_minor": 4
}
